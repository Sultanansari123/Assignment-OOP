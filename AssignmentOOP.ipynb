{
 "cells": [
  {
   "cell_type": "code",
   "execution_count": 1,
   "id": "69b5dc1e-3d5a-4cdc-95e0-8408095a1377",
   "metadata": {},
   "outputs": [],
   "source": [
    "#Ans1-abstration is the concept of object oriented programming that showsonly essential atttributes and hide unecessary information.\n",
    "from abc import ABC,abstractmethod"
   ]
  },
  {
   "cell_type": "code",
   "execution_count": 2,
   "id": "46bf86e9-0d63-443c-a13b-949c22402123",
   "metadata": {},
   "outputs": [],
   "source": [
    "class Car(ABC):\n",
    "    def mileague(self):\n",
    "        pass\n",
    "class Tesla(Car):\n",
    "    def milegue(self):\n",
    "        print(\"the milegue is 30 kmph\")\n",
    "class Suzuki(Car):\n",
    "    def milegue(self):\n",
    "        print(\"the milegue is 25 kmph\")\n",
    "\n",
    "class Duster(Car):\n",
    "    def milegue(self):\n",
    "        print(\"the milegue is 20 kmph\")\n",
    "class Tata(Car):\n",
    "    def milegue(self):\n",
    "        print(\"the milegue is 40 kmph\")"
   ]
  },
  {
   "cell_type": "code",
   "execution_count": 4,
   "id": "528dba78-062a-4496-9621-85dfaad984f1",
   "metadata": {},
   "outputs": [
    {
     "name": "stdout",
     "output_type": "stream",
     "text": [
      "the milegue is 30 kmph\n"
     ]
    }
   ],
   "source": [
    "t=Tesla()\n",
    "t.milegue()"
   ]
  },
  {
   "cell_type": "code",
   "execution_count": 5,
   "id": "573d3fdd-ee3d-4191-91e8-049429c4080a",
   "metadata": {},
   "outputs": [
    {
     "name": "stdout",
     "output_type": "stream",
     "text": [
      "the milegue is 25 kmph\n"
     ]
    }
   ],
   "source": [
    "s=Suzuki()\n",
    "s.milegue()"
   ]
  },
  {
   "cell_type": "code",
   "execution_count": 6,
   "id": "37fdddb2-dd2d-4f4c-9689-9aeadbe4d8a4",
   "metadata": {},
   "outputs": [
    {
     "name": "stdout",
     "output_type": "stream",
     "text": [
      "the milegue is 40 kmph\n"
     ]
    }
   ],
   "source": [
    "T=Tata()\n",
    "T.milegue()"
   ]
  },
  {
   "cell_type": "code",
   "execution_count": 7,
   "id": "ff3330da-21b5-4fdc-8539-4af7baa725a9",
   "metadata": {},
   "outputs": [
    {
     "name": "stdout",
     "output_type": "stream",
     "text": [
      "the milegue is 20 kmph\n"
     ]
    }
   ],
   "source": [
    "d=Duster()\n",
    "d.milegue()"
   ]
  },
  {
   "cell_type": "code",
   "execution_count": 10,
   "id": "3d6c5723-034e-45c5-9e3b-d5a6c7507143",
   "metadata": {},
   "outputs": [],
   "source": [
    "#Ans2-abstration is hiding the internal functionalities and showing the essential information\n",
    "#encapsulation meams wrapping the data and method in single mode.\n",
    "class Person:\n",
    "    def __init__(self):\n",
    "        self.name= \"sultan ansari\"\n",
    "    def bio(self):\n",
    "        self.addr= \"munshipura mau\"\n",
    "        self.contact= \"92343455\"\n",
    "        self.pin= \"275101\"\n",
    "        print(self.addr,self.contact,self.pin)\n",
    "    def interest(self):\n",
    "        self.favfood=\"vegetable food\"\n",
    "        self.hobbies= \"pyhton programming\"\n",
    "        self.bloodgrp=\"B+\"\n",
    "        print(self.favfood,self.hobbies,self.bloodgrp)\n",
    "    \n",
    "        \n"
   ]
  },
  {
   "cell_type": "code",
   "execution_count": 11,
   "id": "e7566ee8-697d-48ec-8b57-4b5bb625c98d",
   "metadata": {},
   "outputs": [
    {
     "name": "stdout",
     "output_type": "stream",
     "text": [
      "sultan ansari\n",
      "munshipura mau 92343455 275101\n",
      "vegetable food pyhton programming B+\n"
     ]
    }
   ],
   "source": [
    "obj=Person()\n",
    "print(obj.name)\n",
    "obj.bio()\n",
    "obj.interest()"
   ]
  },
  {
   "cell_type": "code",
   "execution_count": 12,
   "id": "81b5c249-8e70-486c-814b-53601687b1ed",
   "metadata": {},
   "outputs": [],
   "source": [
    "#Ans3-abc module provides the infrastructure for deffing abstract base classin pythonabc work by marking method of the base class as abstract.\n"
   ]
  },
  {
   "cell_type": "code",
   "execution_count": 13,
   "id": "445d389d-2f87-42c6-ae6a-35a4585b1d42",
   "metadata": {},
   "outputs": [],
   "source": [
    "#Ans4-abstration can be achieved by using abstact classes and method in our program,abstract method is a method that is declared but does'nt contain implementation."
   ]
  },
  {
   "cell_type": "code",
   "execution_count": null,
   "id": "f3cf45f7-3db7-4526-8f6a-f8ee5a956737",
   "metadata": {},
   "outputs": [],
   "source": [
    "#Ans5-No we can not create an object of an abstract class ,but we can create a reference variable of an abstract class."
   ]
  }
 ],
 "metadata": {
  "kernelspec": {
   "display_name": "Python 3 (ipykernel)",
   "language": "python",
   "name": "python3"
  },
  "language_info": {
   "codemirror_mode": {
    "name": "ipython",
    "version": 3
   },
   "file_extension": ".py",
   "mimetype": "text/x-python",
   "name": "python",
   "nbconvert_exporter": "python",
   "pygments_lexer": "ipython3",
   "version": "3.10.8"
  }
 },
 "nbformat": 4,
 "nbformat_minor": 5
}
